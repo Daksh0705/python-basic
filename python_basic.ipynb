{
  "nbformat": 4,
  "nbformat_minor": 0,
  "metadata": {
    "colab": {
      "provenance": []
    },
    "kernelspec": {
      "name": "python3",
      "display_name": "Python 3"
    },
    "language_info": {
      "name": "python"
    }
  },
  "cells": [
    {
      "cell_type": "code",
      "execution_count": 2,
      "metadata": {
        "colab": {
          "base_uri": "https://localhost:8080/"
        },
        "id": "f7vsJZxlf54_",
        "outputId": "3589bbbc-8429-4537-8d7e-9ef71a69f643"
      },
      "outputs": [
        {
          "output_type": "stream",
          "name": "stdout",
          "text": [
            "hello world\n"
          ]
        }
      ],
      "source": [
        "#Write a Python program to print \"Hello, World!\n",
        "print(\"hello world\")"
      ]
    },
    {
      "cell_type": "code",
      "source": [
        "#Write a Python program that displays your name and age\n",
        "name=\"daksh\"\n",
        "age=20\n",
        "print(\"my name is\",name)\n",
        "print(\"my age is\",age)"
      ],
      "metadata": {
        "colab": {
          "base_uri": "https://localhost:8080/"
        },
        "id": "nIIbjSj_gcok",
        "outputId": "722208a8-5e22-45e0-adea-ed87f11b05e6"
      },
      "execution_count": 4,
      "outputs": [
        {
          "output_type": "stream",
          "name": "stdout",
          "text": [
            "my name is daksh\n",
            "my age is 20\n"
          ]
        }
      ]
    },
    {
      "cell_type": "code",
      "source": [
        "#Write code to print all the pre-defined keywords in Python using the keyword library\n",
        "import keyword\n",
        "\n",
        "# Print all Python keywords\n",
        "print(keyword.kwlist)\n"
      ],
      "metadata": {
        "colab": {
          "base_uri": "https://localhost:8080/"
        },
        "id": "auAsua5HhSmz",
        "outputId": "c29fcbfa-d341-40ed-8fd1-c8faa10ead92"
      },
      "execution_count": 7,
      "outputs": [
        {
          "output_type": "stream",
          "name": "stdout",
          "text": [
            "['False', 'None', 'True', 'and', 'as', 'assert', 'async', 'await', 'break', 'class', 'continue', 'def', 'del', 'elif', 'else', 'except', 'finally', 'for', 'from', 'global', 'if', 'import', 'in', 'is', 'lambda', 'nonlocal', 'not', 'or', 'pass', 'raise', 'return', 'try', 'while', 'with', 'yield']\n"
          ]
        }
      ]
    },
    {
      "cell_type": "code",
      "source": [
        "#Write a program that checks if a given word is a Python keyword\n",
        "import keyword\n",
        "\n",
        "# Function to check if a word is a Python keyword\n",
        "def check_keyword(word):\n",
        "    if keyword.iskeyword(word):\n",
        "        print(f'\"{word}\" is a Python keyword.')\n",
        "    else:\n",
        "        print(f'\"{word}\" is NOT a Python keyword.')\n",
        "\n",
        "# Example usage\n",
        "word = input(\"Enter a word to check: \")\n",
        "check_keyword(word)\n"
      ],
      "metadata": {
        "colab": {
          "base_uri": "https://localhost:8080/"
        },
        "id": "fotiDcDiiRih",
        "outputId": "2aad4aca-4f8f-4ea4-d91a-d466e842c798"
      },
      "execution_count": 10,
      "outputs": [
        {
          "output_type": "stream",
          "name": "stdout",
          "text": [
            "Enter a word to check: import\n",
            "\"import\" is a Python keyword.\n"
          ]
        }
      ]
    },
    {
      "cell_type": "code",
      "source": [
        "# Create a list and tuple in Python, and demonstrate how attempting to change an element works differently\n",
        "#for each\n",
        "# Creating a list\n",
        "my_list = [1, 2, 3, 4, 5]\n",
        "print(\"Original List:\", my_list)\n",
        "\n",
        "# Modifying an element in the list\n",
        "my_list[2] = 10\n",
        "print(\"Modified List:\", my_list)\n",
        "\n",
        "# Creating a tuple\n",
        "my_tuple = (1, 2, 3, 4, 5)\n",
        "print(\"Original Tuple:\", my_tuple)\n",
        "\n",
        "# Attempting to modify an element in the tuple\n",
        "try:\n",
        "    my_tuple[2] = 10  # This will raise an error\n",
        "except TypeError as e:\n",
        "    print(\"Error:\", e)\n"
      ],
      "metadata": {
        "colab": {
          "base_uri": "https://localhost:8080/"
        },
        "id": "1Cezzoffi01r",
        "outputId": "ac7c93b5-840f-4fd7-b28d-93d5262c5f6b"
      },
      "execution_count": 11,
      "outputs": [
        {
          "output_type": "stream",
          "name": "stdout",
          "text": [
            "Original List: [1, 2, 3, 4, 5]\n",
            "Modified List: [1, 2, 10, 4, 5]\n",
            "Original Tuple: (1, 2, 3, 4, 5)\n",
            "Error: 'tuple' object does not support item assignment\n"
          ]
        }
      ]
    },
    {
      "cell_type": "code",
      "source": [
        "# Write a function to demonstrate the behavior of mutable and immutable arguments.\n",
        "def modify_arguments(immutable_var, mutable_var):\n",
        "    # Attempt to modify immutable variable (integer)\n",
        "    immutable_var += 10\n",
        "    print(f\"Inside function (immutable_var): {immutable_var}\")\n",
        "\n",
        "    # Modify mutable variable (list)\n",
        "    mutable_var.append(4)\n",
        "    print(f\"Inside function (mutable_var): {mutable_var}\")\n",
        "\n",
        "# Define an immutable variable (integer)\n",
        "num = 5\n",
        "\n",
        "# Define a mutable variable (list)\n",
        "my_list = [1, 2, 3]\n",
        "\n",
        "print(f\"Before function call (num): {num}\")\n",
        "print(f\"Before function call (my_list): {my_list}\")\n",
        "\n",
        "# Call the function\n",
        "modify_arguments(num, my_list)\n",
        "\n",
        "print(f\"After function call (num): {num}\")  # Unchanged\n",
        "print(f\"After function call (my_list): {my_list}\")  # Changed\n"
      ],
      "metadata": {
        "colab": {
          "base_uri": "https://localhost:8080/"
        },
        "id": "biKfJ5YIjRuV",
        "outputId": "553c4dcf-7632-4cb7-f763-716f19539837"
      },
      "execution_count": 13,
      "outputs": [
        {
          "output_type": "stream",
          "name": "stdout",
          "text": [
            "Before function call (num): 5\n",
            "Before function call (my_list): [1, 2, 3]\n",
            "Inside function (immutable_var): 15\n",
            "Inside function (mutable_var): [1, 2, 3, 4]\n",
            "After function call (num): 5\n",
            "After function call (my_list): [1, 2, 3, 4]\n"
          ]
        }
      ]
    },
    {
      "cell_type": "code",
      "source": [
        "#Write a program that performs basic arithmetic operations on two user-input numbers.\n",
        "# Function to perform arithmetic operations\n",
        "def arithmetic_operations(a, b):\n",
        "    print(f\"Addition: {a} + {b} = {a + b}\")\n",
        "    print(f\"Subtraction: {a} - {b} = {a - b}\")\n",
        "    print(f\"Multiplication: {a} * {b} = {a * b}\")\n",
        "    if b != 0:\n",
        "        print(f\"Division: {a} / {b} = {a / b}\")\n",
        "        print(f\"Floor Division: {a} // {b} = {a // b}\")\n",
        "        print(f\"Modulus: {a} % {b} = {a % b}\")\n",
        "    else:\n",
        "        print(\"Division by zero is not allowed.\")\n",
        "    print(f\"Exponentiation: {a} ** {b} = {a ** b}\")\n",
        "\n",
        "# Taking user input\n",
        "num1 = float(input(\"Enter first number: \"))\n",
        "num2 = float(input(\"Enter second number: \"))\n",
        "\n",
        "# Perform operations\n",
        "arithmetic_operations(num1, num2)\n"
      ],
      "metadata": {
        "colab": {
          "base_uri": "https://localhost:8080/"
        },
        "id": "KCOOpqCBjklu",
        "outputId": "2abbf329-f5e2-42c2-966e-07e6f15331ff"
      },
      "execution_count": 15,
      "outputs": [
        {
          "output_type": "stream",
          "name": "stdout",
          "text": [
            "Enter first number: 10\n",
            "Enter second number: 2\n",
            "Addition: 10.0 + 2.0 = 12.0\n",
            "Subtraction: 10.0 - 2.0 = 8.0\n",
            "Multiplication: 10.0 * 2.0 = 20.0\n",
            "Division: 10.0 / 2.0 = 5.0\n",
            "Floor Division: 10.0 // 2.0 = 5.0\n",
            "Modulus: 10.0 % 2.0 = 0.0\n",
            "Exponentiation: 10.0 ** 2.0 = 100.0\n"
          ]
        }
      ]
    },
    {
      "cell_type": "code",
      "source": [
        "# Write a program to demonstrate the use of logical operators.\n",
        "# Function to demonstrate logical operators\n",
        "def logical_operators_demo(a, b):\n",
        "    print(f\"a = {a}, b = {b}\")\n",
        "\n",
        "    # Logical AND\n",
        "    print(f\"a > 5 and b > 5: {a > 5 and b > 5}\")\n",
        "\n",
        "    # Logical OR\n",
        "    print(f\"a > 5 or b > 5: {a > 5 or b > 5}\")\n",
        "\n",
        "    # Logical NOT\n",
        "    print(f\"not (a > 5): {not (a > 5)}\")\n",
        "\n",
        "# Taking user input\n",
        "a = int(input(\"Enter first number: \"))\n",
        "b = int(input(\"Enter second number: \"))\n",
        "\n",
        "# Call the function\n",
        "logical_operators_demo(a, b)\n"
      ],
      "metadata": {
        "colab": {
          "base_uri": "https://localhost:8080/"
        },
        "id": "CV_YRGu6j5-x",
        "outputId": "7cdad924-8a89-40dc-8a0b-bff46686e0ae"
      },
      "execution_count": 16,
      "outputs": [
        {
          "output_type": "stream",
          "name": "stdout",
          "text": [
            "Enter first number: 2\n",
            "Enter second number: 10\n",
            "a = 2, b = 10\n",
            "a > 5 and b > 5: False\n",
            "a > 5 or b > 5: True\n",
            "not (a > 5): True\n"
          ]
        }
      ]
    },
    {
      "cell_type": "code",
      "source": [
        "#Write a Python program to convert user input from string to integer, float, and boolean types.\n",
        "# Function to convert string input to integer, float, and boolean\n",
        "def convert_input(user_input):\n",
        "    try:\n",
        "        # Convert to integer\n",
        "        integer_value = int(user_input)\n",
        "        print(f\"Converted to integer: {integer_value}\")\n",
        "    except ValueError:\n",
        "        print(\"Cannot convert to integer.\")\n",
        "\n",
        "    try:\n",
        "        # Convert to float\n",
        "        float_value = float(user_input)\n",
        "        print(f\"Converted to float: {float_value}\")\n",
        "    except ValueError:\n",
        "        print(\"Cannot convert to float.\")\n",
        "\n",
        "    # Convert to boolean\n",
        "    # An empty string is False, and any non-empty string is True\n",
        "    boolean_value = bool(user_input)\n",
        "    print(f\"Converted to boolean: {boolean_value}\")\n",
        "\n",
        "# Taking user input as a string\n",
        "user_input = input(\"Enter something: \")\n",
        "\n",
        "# Call the function to convert input\n",
        "convert_input(user_input)\n"
      ],
      "metadata": {
        "colab": {
          "base_uri": "https://localhost:8080/"
        },
        "id": "avpal_2KkIKT",
        "outputId": "23c970fd-73b7-4385-e4b7-6f24dd0189a1"
      },
      "execution_count": 17,
      "outputs": [
        {
          "output_type": "stream",
          "name": "stdout",
          "text": [
            "Enter something: 72\n",
            "Converted to integer: 72\n",
            "Converted to float: 72.0\n",
            "Converted to boolean: True\n"
          ]
        }
      ]
    },
    {
      "cell_type": "code",
      "source": [
        "# Write code to demonstrate type casting with list elements.\n",
        "# Function to demonstrate type casting with list elements\n",
        "def type_casting_with_list():\n",
        "    # Creating a list with different types of elements\n",
        "    original_list = [\"1\", \"3.14\", \"True\", 4, 5.5]\n",
        "    print(\"Original List:\", original_list)\n",
        "\n",
        "    # Type casting elements in the list\n",
        "    # Convert string \"1\" to integer\n",
        "    casted_int = int(original_list[0])\n",
        "\n",
        "    # Convert string \"3.14\" to float\n",
        "    casted_float = float(original_list[1])\n",
        "\n",
        "    # Convert string \"True\" to boolean\n",
        "    casted_bool = bool(original_list[2])  # Non-empty string is considered True\n",
        "\n",
        "    # Convert integer 4 to string\n",
        "    casted_str = str(original_list[3])\n",
        "\n",
        "    # Convert float 5.5 to integer (will truncate the decimal)\n",
        "    casted_int_from_float = int(original_list[4])\n",
        "\n",
        "    # Displaying the casted values\n",
        "    print(\"\\nCasted Elements:\")\n",
        "    print(f\"String '1' to Integer: {casted_int}\")\n",
        "    print(f\"String '3.14' to Float: {casted_float}\")\n",
        "    print(f\"String 'True' to Boolean: {casted_bool}\")\n",
        "    print(f\"Integer 4 to String: {casted_str}\")\n",
        "    print(f\"Float 5.5 to Integer: {casted_int_from_float}\")\n",
        "\n",
        "# Call the function\n",
        "type_casting_with_list()\n"
      ],
      "metadata": {
        "colab": {
          "base_uri": "https://localhost:8080/"
        },
        "id": "M3BKx6p2kZil",
        "outputId": "c7c1952c-dc89-45bc-8e47-368a265e0926"
      },
      "execution_count": 18,
      "outputs": [
        {
          "output_type": "stream",
          "name": "stdout",
          "text": [
            "Original List: ['1', '3.14', 'True', 4, 5.5]\n",
            "\n",
            "Casted Elements:\n",
            "String '1' to Integer: 1\n",
            "String '3.14' to Float: 3.14\n",
            "String 'True' to Boolean: True\n",
            "Integer 4 to String: 4\n",
            "Float 5.5 to Integer: 5\n"
          ]
        }
      ]
    },
    {
      "cell_type": "code",
      "source": [
        "#Write a program that checks if a number is positive, negative, or zero.\n",
        "# Function to check if the number is positive, negative, or zero\n",
        "def check_number(num):\n",
        "    if num > 0:\n",
        "        print(f\"{num} is a positive number.\")\n",
        "    elif num < 0:\n",
        "        print(f\"{num} is a negative number.\")\n",
        "    else:\n",
        "        print(f\"{num} is zero.\")\n",
        "\n",
        "# Taking user input\n",
        "try:\n",
        "    num = float(input(\"Enter a number: \"))\n",
        "    check_number(num)\n",
        "except ValueError:\n",
        "    print(\"Please enter a valid number.\")\n"
      ],
      "metadata": {
        "colab": {
          "base_uri": "https://localhost:8080/"
        },
        "id": "oT7BelhPkpy8",
        "outputId": "da1130aa-bcb0-4944-e17d-8af0dad00649"
      },
      "execution_count": 19,
      "outputs": [
        {
          "output_type": "stream",
          "name": "stdout",
          "text": [
            "Enter a number: 2\n",
            "2.0 is a positive number.\n"
          ]
        }
      ]
    },
    {
      "cell_type": "code",
      "source": [
        "#Write a for loop to print numbers from 1 to 10.\n",
        "# For loop to print numbers from 1 to 10\n",
        "for i in range(1, 11):\n",
        "    print(i)\n",
        "\n"
      ],
      "metadata": {
        "colab": {
          "base_uri": "https://localhost:8080/"
        },
        "id": "6urxGI-lk6qo",
        "outputId": "4c93392f-0c6d-46e5-a430-f685dd94e955"
      },
      "execution_count": 20,
      "outputs": [
        {
          "output_type": "stream",
          "name": "stdout",
          "text": [
            "1\n",
            "2\n",
            "3\n",
            "4\n",
            "5\n",
            "6\n",
            "7\n",
            "8\n",
            "9\n",
            "10\n"
          ]
        }
      ]
    },
    {
      "cell_type": "code",
      "source": [
        "#Write a Python program to find the sum of all even numbers between 1 and 50.\n",
        "# Function to find the sum of all even numbers between 1 and 50\n",
        "def sum_of_even_numbers():\n",
        "    total_sum = 0\n",
        "    for num in range(2, 51, 2):  # Start at 2, end at 50, step by 2\n",
        "        total_sum += num\n",
        "    return total_sum\n",
        "\n",
        "# Call the function and print the result\n",
        "result = sum_of_even_numbers()\n",
        "print(\"The sum of all even numbers between 1 and 50 is:\", result)\n"
      ],
      "metadata": {
        "colab": {
          "base_uri": "https://localhost:8080/"
        },
        "id": "ZPiR9nvZlG3P",
        "outputId": "5869d561-20be-4490-af3b-47eb3969ff34"
      },
      "execution_count": 22,
      "outputs": [
        {
          "output_type": "stream",
          "name": "stdout",
          "text": [
            "The sum of all even numbers between 1 and 50 is: 650\n"
          ]
        }
      ]
    },
    {
      "cell_type": "code",
      "source": [
        "#Write a program to reverse a string using a while loop.\n",
        "# Function to reverse a string using a while loop\n",
        "def reverse_string(input_string):\n",
        "    reversed_string = \"\"  # Start with an empty string to store the reversed string\n",
        "    index = len(input_string) - 1  # Set the starting index to the last character\n",
        "\n",
        "    while index >= 0:\n",
        "        reversed_string += input_string[index]  # Append the character to reversed_string\n",
        "        index -= 1  # Move the index to the previous character\n",
        "\n",
        "    return reversed_string\n",
        "\n",
        "# Taking user input\n",
        "user_input = input(\"Enter a string to reverse: \")\n",
        "\n",
        "# Calling the function and printing the result\n",
        "reversed_str = reverse_string(user_input)\n",
        "print(\"Reversed string:\", reversed_str)\n"
      ],
      "metadata": {
        "colab": {
          "base_uri": "https://localhost:8080/"
        },
        "id": "IkVPf8WvlSJP",
        "outputId": "48f15af4-4e87-4793-921e-eb1f1f082e24"
      },
      "execution_count": 23,
      "outputs": [
        {
          "output_type": "stream",
          "name": "stdout",
          "text": [
            "Enter a string to reverse: daksh\n",
            "Reversed string: hskad\n"
          ]
        }
      ]
    },
    {
      "cell_type": "code",
      "source": [
        "# Write a Python program to calculate the factorial of a number provided by the user using a while loop.\n",
        "# Function to calculate factorial using a while loop\n",
        "def factorial(num):\n",
        "    if num < 0:\n",
        "        return \"Factorial is not defined for negative numbers.\"\n",
        "\n",
        "    result = 1\n",
        "    while num > 1:\n",
        "        result *= num  # Multiply result by num\n",
        "        num -= 1  # Decrement num by 1\n",
        "\n",
        "    return result\n",
        "\n",
        "# Taking user input\n",
        "try:\n",
        "    number = int(input(\"Enter a number to calculate its factorial: \"))\n",
        "    result = factorial(number)\n",
        "    print(f\"The factorial is: {result}\")\n",
        "except ValueError:\n",
        "    print(\"Please enter a valid integer.\")\n"
      ],
      "metadata": {
        "colab": {
          "base_uri": "https://localhost:8080/"
        },
        "id": "4OoqSp_alwXP",
        "outputId": "2a4c49cc-b14b-4279-faa0-6790018cf5ad"
      },
      "execution_count": 24,
      "outputs": [
        {
          "output_type": "stream",
          "name": "stdout",
          "text": [
            "Enter a number to calculate its factorial: 10\n",
            "The factorial is: 3628800\n"
          ]
        }
      ]
    }
  ]
}